{
 "cells": [
  {
   "cell_type": "code",
   "execution_count": 12,
   "id": "0c28e388",
   "metadata": {},
   "outputs": [],
   "source": [
    "import matplotlib.pyplot as plt\n",
    "import seaborn as sns\n",
    "import keras\n",
    "from keras.models import Sequential\n",
    "from keras.layers import Dense, Conv2D , MaxPool2D , Flatten , Dropout \n",
    "from keras.preprocessing.image import ImageDataGenerator\n",
    "from keras.optimizers import Adam\n",
    "from sklearn.metrics import classification_report,confusion_matrix\n",
    "import tensorflow as tf\n",
    "import cv2\n",
    "import os\n",
    "import numpy as np"
   ]
  },
  {
   "cell_type": "code",
   "execution_count": 19,
   "id": "ec1c1cab",
   "metadata": {},
   "outputs": [],
   "source": [
    "# [DO NOT MODIFY THIS CELL]\n",
    "\n",
    "# load the images\n",
    "n_img = 50000\n",
    "n_noisy = 40000\n",
    "n_clean_noisy = n_img - n_noisy\n",
    "imgs = np.empty((n_clean_noisy,32,32,3))\n"
   ]
  },
  {
   "cell_type": "code",
   "execution_count": 20,
   "id": "0dfb2c29",
   "metadata": {},
   "outputs": [],
   "source": [
    "for i in range(n_clean_noisy):\n",
    "    img_fn = f'../data/images/{i+1:05d}.png'\n",
    "    imgs[i,:,:,:]=cv2.cvtColor(cv2.imread(img_fn),cv2.COLOR_BGR2RGB)\n",
    "\n",
    "# load the labels\n",
    "clean_labels = np.genfromtxt('../data/clean_labels.csv', delimiter=',', dtype=\"int8\")\n",
    "noisy_labels = np.genfromtxt('../data/noisy_labels.csv', delimiter=',', dtype=\"int8\")"
   ]
  },
  {
   "cell_type": "code",
   "execution_count": 61,
   "id": "0419add6",
   "metadata": {},
   "outputs": [
    {
     "data": {
      "text/plain": [
       "array([[[ 62.,  55.,   7.],\n",
       "        [ 61.,  55.,   7.],\n",
       "        [ 60.,  55.,   6.],\n",
       "        ...,\n",
       "        [ 64.,  58.,  10.],\n",
       "        [ 82.,  75.,  28.],\n",
       "        [ 62.,  55.,   9.]],\n",
       "\n",
       "       [[ 62.,  56.,   7.],\n",
       "        [ 63.,  52.,   8.],\n",
       "        [ 61.,  48.,   6.],\n",
       "        ...,\n",
       "        [ 77.,  69.,  28.],\n",
       "        [114., 107.,  65.],\n",
       "        [ 64.,  57.,  12.]],\n",
       "\n",
       "       [[ 67.,  59.,  15.],\n",
       "        [ 78.,  62.,  28.],\n",
       "        [115.,  93.,  66.],\n",
       "        ...,\n",
       "        [100.,  92.,  58.],\n",
       "        [119., 111.,  74.],\n",
       "        [ 63.,  56.,  12.]],\n",
       "\n",
       "       ...,\n",
       "\n",
       "       [[161., 192., 125.],\n",
       "        [159., 190., 123.],\n",
       "        [159., 190., 123.],\n",
       "        ...,\n",
       "        [152., 167., 123.],\n",
       "        [157., 190., 128.],\n",
       "        [156., 192., 123.]],\n",
       "\n",
       "       [[163., 195., 127.],\n",
       "        [161., 192., 125.],\n",
       "        [162., 193., 126.],\n",
       "        ...,\n",
       "        [162., 191., 128.],\n",
       "        [161., 193., 127.],\n",
       "        [161., 193., 126.]],\n",
       "\n",
       "       [[169., 201., 132.],\n",
       "        [167., 198., 130.],\n",
       "        [167., 198., 131.],\n",
       "        ...,\n",
       "        [167., 198., 130.],\n",
       "        [167., 198., 130.],\n",
       "        [167., 198., 131.]]])"
      ]
     },
     "execution_count": 61,
     "metadata": {},
     "output_type": "execute_result"
    }
   ],
   "source": [
    "np.shape(imgs)\n",
    "imgs[9999]"
   ]
  },
  {
   "cell_type": "code",
   "execution_count": 62,
   "id": "8abd2a9a",
   "metadata": {},
   "outputs": [
    {
     "name": "stderr",
     "output_type": "stream",
     "text": [
      "/var/folders/wc/t_v0xn8x34l0tg9h24xlltzh0000gn/T/ipykernel_39885/3869383444.py:6: VisibleDeprecationWarning: Creating an ndarray from ragged nested sequences (which is a list-or-tuple of lists-or-tuples-or ndarrays with different lengths or shapes) is deprecated. If you meant to do this, you must specify 'dtype=object' when creating the ndarray.\n",
      "  train = np.array(temp1)\n"
     ]
    }
   ],
   "source": [
    "### convert the final data into a numpy array with dim (10000,2), first element being the RGB matrix of the image ###\n",
    "###second element being the cleaned label###\n",
    "temp1 = []\n",
    "for i in range(1,np.shape(clean_labels)[0]):\n",
    "    temp1.append([imgs[i],clean_labels[i]])\n",
    "train = np.array(temp1)"
   ]
  },
  {
   "cell_type": "code",
   "execution_count": 63,
   "id": "632c26bc",
   "metadata": {},
   "outputs": [],
   "source": [
    "### create list of features(x) and labels(y)###\n",
    "x_train = []\n",
    "y_train = []\n",
    "for feature, label in train:\n",
    "    x_train.append(feature)\n",
    "    y_train.append(label)"
   ]
  },
  {
   "cell_type": "code",
   "execution_count": 66,
   "id": "ab632bf1",
   "metadata": {},
   "outputs": [],
   "source": [
    "###normalize the two vectors (RGM maxium is 255)\n",
    "x_train = np.array(x_train) / 255\n",
    "y_train = np.array(y_train) / 255"
   ]
  },
  {
   "cell_type": "code",
   "execution_count": 67,
   "id": "c1539e62",
   "metadata": {},
   "outputs": [],
   "source": [
    "###data augumentation###\n",
    "datagen = ImageDataGenerator(\n",
    "        featurewise_center=False,  # set input mean to 0 over the dataset\n",
    "        samplewise_center=False,  # set each sample mean to 0\n",
    "        featurewise_std_normalization=False,  # divide inputs by std of the dataset\n",
    "        samplewise_std_normalization=False,  # divide each input by its std\n",
    "        zca_whitening=False,  # apply ZCA whitening\n",
    "        rotation_range = 30,  # randomly rotate images in the range (degrees, 0 to 180)\n",
    "        zoom_range = 0.2, # Randomly zoom image \n",
    "        width_shift_range=0.1,  # randomly shift images horizontally (fraction of total width)\n",
    "        height_shift_range=0.1,  # randomly shift images vertically (fraction of total height)\n",
    "        horizontal_flip = True,  # randomly flip images\n",
    "        vertical_flip=False)  # randomly flip images\n",
    "\n",
    "datagen.fit(x_train)\n"
   ]
  },
  {
   "cell_type": "code",
   "execution_count": 69,
   "id": "d5f0eda1",
   "metadata": {},
   "outputs": [
    {
     "name": "stdout",
     "output_type": "stream",
     "text": [
      "Model: \"sequential_1\"\n",
      "_________________________________________________________________\n",
      " Layer (type)                Output Shape              Param #   \n",
      "=================================================================\n",
      " conv2d (Conv2D)             (None, 32, 32, 32)        896       \n",
      "                                                                 \n",
      " max_pooling2d (MaxPooling2D  (None, 16, 16, 32)       0         \n",
      " )                                                               \n",
      "                                                                 \n",
      " conv2d_1 (Conv2D)           (None, 16, 16, 32)        9248      \n",
      "                                                                 \n",
      " max_pooling2d_1 (MaxPooling  (None, 8, 8, 32)         0         \n",
      " 2D)                                                             \n",
      "                                                                 \n",
      " conv2d_2 (Conv2D)           (None, 8, 8, 64)          18496     \n",
      "                                                                 \n",
      " max_pooling2d_2 (MaxPooling  (None, 4, 4, 64)         0         \n",
      " 2D)                                                             \n",
      "                                                                 \n",
      " dropout (Dropout)           (None, 4, 4, 64)          0         \n",
      "                                                                 \n",
      " flatten (Flatten)           (None, 1024)              0         \n",
      "                                                                 \n",
      " dense (Dense)               (None, 128)               131200    \n",
      "                                                                 \n",
      " dense_1 (Dense)             (None, 2)                 258       \n",
      "                                                                 \n",
      "=================================================================\n",
      "Total params: 160,098\n",
      "Trainable params: 160,098\n",
      "Non-trainable params: 0\n",
      "_________________________________________________________________\n"
     ]
    }
   ],
   "source": [
    "###defining model###\n",
    "###define a simple CNN model with 3 Convolutional layers followed by max-pooling layers. ###\n",
    "###A dropout layer is added after the 3rd maxpool operation to avoid overfitting. ###\n",
    "model = Sequential()\n",
    "model.add(Conv2D(32,3,padding=\"same\", activation=\"relu\", input_shape=(32,32,3)))\n",
    "model.add(MaxPool2D())\n",
    "\n",
    "model.add(Conv2D(32, 3, padding=\"same\", activation=\"relu\"))\n",
    "model.add(MaxPool2D())\n",
    "\n",
    "model.add(Conv2D(64, 3, padding=\"same\", activation=\"relu\"))\n",
    "model.add(MaxPool2D())\n",
    "model.add(Dropout(0.4))\n",
    "\n",
    "model.add(Flatten())\n",
    "model.add(Dense(128,activation=\"relu\"))\n",
    "model.add(Dense(2, activation=\"softmax\"))\n",
    "\n",
    "model.summary()\n"
   ]
  },
  {
   "cell_type": "code",
   "execution_count": 70,
   "id": "31fa2a11",
   "metadata": {},
   "outputs": [
    {
     "name": "stderr",
     "output_type": "stream",
     "text": [
      "/Users/fuckmylife/opt/anaconda3/envs/text-mine/lib/python3.9/site-packages/keras/optimizers/optimizer_v2/adam.py:110: UserWarning: The `lr` argument is deprecated, use `learning_rate` instead.\n",
      "  super(Adam, self).__init__(name, **kwargs)\n"
     ]
    }
   ],
   "source": [
    "###complie model now using Adam as our optimizer and SparseCategoricalCrossentropy as the loss function. ###\n",
    "###USE lower learning rate of 0.000001 for a smoother curve. ###\n",
    "opt = Adam(lr=0.000001)\n",
    "model.compile(optimizer = opt , loss = tf.keras.losses.SparseCategoricalCrossentropy(from_logits=True) , metrics = ['accuracy'])"
   ]
  },
  {
   "cell_type": "code",
   "execution_count": 71,
   "id": "5f7a48da",
   "metadata": {},
   "outputs": [
    {
     "ename": "NameError",
     "evalue": "name 'x_val' is not defined",
     "output_type": "error",
     "traceback": [
      "\u001b[0;31m---------------------------------------------------------------------------\u001b[0m",
      "\u001b[0;31mNameError\u001b[0m                                 Traceback (most recent call last)",
      "Input \u001b[0;32mIn [71]\u001b[0m, in \u001b[0;36m<cell line: 1>\u001b[0;34m()\u001b[0m\n\u001b[0;32m----> 1\u001b[0m test \u001b[38;5;241m=\u001b[39m model\u001b[38;5;241m.\u001b[39mfit(x_train,y_train,epochs \u001b[38;5;241m=\u001b[39m \u001b[38;5;241m500\u001b[39m , validation_data \u001b[38;5;241m=\u001b[39m (\u001b[43mx_val\u001b[49m, y_val))\n",
      "\u001b[0;31mNameError\u001b[0m: name 'x_val' is not defined"
     ]
    }
   ],
   "source": [
    "### please try fitting the model\n",
    "test = model.fit(x_train,y_train,epochs = 500 , validation_data = (x_val, y_val))\n"
   ]
  },
  {
   "cell_type": "code",
   "execution_count": null,
   "id": "d996b205",
   "metadata": {},
   "outputs": [],
   "source": []
  }
 ],
 "metadata": {
  "kernelspec": {
   "display_name": "Python 3 (ipykernel)",
   "language": "python",
   "name": "python3"
  },
  "language_info": {
   "codemirror_mode": {
    "name": "ipython",
    "version": 3
   },
   "file_extension": ".py",
   "mimetype": "text/x-python",
   "name": "python",
   "nbconvert_exporter": "python",
   "pygments_lexer": "ipython3",
   "version": "3.9.13"
  }
 },
 "nbformat": 4,
 "nbformat_minor": 5
}
